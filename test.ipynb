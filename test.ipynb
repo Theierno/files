{
 "cells": [
  {
   "cell_type": "code",
   "execution_count": null,
   "id": "b23f23e8",
   "metadata": {
    "vscode": {
     "languageId": "plaintext"
    }
   },
   "outputs": [],
   "source": [
    "NEO4J_URI = \"neo4j+s://7d3d4dbd.databases.neo4j.io\"\n",
    "NEO4J_USERNAME = \"neo4j\"\n",
    "NEO4J_PASSWORD = \"4cQimVVQmSVbF5rh6BA-qjWJcIQkmRnyjKXMoxco0Pw\"\n",
    "\n",
    "driver = GraphDatabase.driver(NEO4J_URI, auth=(NEO4J_USERNAME, NEO4J_PASSWORD))\n",
    "\n",
    "def test_connection():\n",
    "    try:\n",
    "        with driver.session() as session:\n",
    "            result = session.run(\"RETURN 1\")\n",
    "            return result.single()[0]\n",
    "    except Exception as e:\n",
    "        return f\"Erreur de connexion : {str(e)}\"\n",
    "    finally:\n",
    "        driver.close()\n",
    "\n",
    "print(test_connection())\n"
   ]
  },
  {
   "cell_type": "code",
   "execution_count": null,
   "id": "eae7c352",
   "metadata": {
    "vscode": {
     "languageId": "plaintext"
    }
   },
   "outputs": [],
   "source": [
    "# pip install sentence-transformers neo4j pandas scikit-learn pydantic requests\n",
    "\n",
    "from sentence_transformers import SentenceTransformer\n",
    "from sklearn.metrics.pairwise import cosine_similarity\n",
    "from pydantic import BaseModel\n",
    "from typing import List, Optional\n",
    "import pandas as pd\n",
    "import numpy as np\n",
    "from neo4j import GraphDatabase\n",
    "import requests\n",
    "import ollama"
   ]
  },
  {
   "cell_type": "code",
   "execution_count": null,
   "id": "b04831fb",
   "metadata": {
    "vscode": {
     "languageId": "plaintext"
    }
   },
   "outputs": [],
   "source": [
    "def load_books():\n",
    "    with driver.session() as session:\n",
    "        query = \"\"\"\n",
    "        MATCH (b:Book)\n",
    "        RETURN b.ISBN AS ISBN, b.title AS title, b.author AS author\n",
    "        \"\"\"\n",
    "        result = session.run(query)\n",
    "        return [Book(**record) for record in result]\n",
    "\n",
    "def load_ratings():\n",
    "    with driver.session() as session:\n",
    "        query = \"\"\"\n",
    "        MATCH (u:User)-[r:RATED]->(b:Book)\n",
    "        RETURN u[\"UserId\"] AS user_id, b.ISBN AS book_id, toInteger(r.rating) AS rating\n",
    "        \"\"\"\n",
    "        result = session.run(query)\n",
    "        return pd.DataFrame([record.data() for record in result])\n"
   ]
  }
 ],
 "metadata": {
  "language_info": {
   "name": "python"
  }
 },
 "nbformat": 4,
 "nbformat_minor": 5
}
