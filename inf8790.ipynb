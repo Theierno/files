{
 "cells": [
  {
   "cell_type": "code",
   "execution_count": 32,
   "id": "c52985c5",
   "metadata": {},
   "outputs": [],
   "source": [
    "\n",
    "# pip install sentence-transformers neo4j pandas scikit-learn pydantic requests\n",
    "\n",
    "from sentence_transformers import SentenceTransformer\n",
    "from sklearn.metrics.pairwise import cosine_similarity\n",
    "from pydantic import BaseModel\n",
    "from typing import List, Optional\n",
    "import pandas as pd\n",
    "import numpy as np\n",
    "from neo4j import GraphDatabase\n",
    "import requests\n",
    "import ollama\n"
   ]
  },
  {
   "cell_type": "code",
   "execution_count": 20,
   "id": "0ce64e06",
   "metadata": {},
   "outputs": [
    {
     "name": "stdout",
     "output_type": "stream",
     "text": [
      "1\n"
     ]
    }
   ],
   "source": [
    "NEO4J_URI = \"neo4j+s://7d3d4dbd.databases.neo4j.io\"\n",
    "NEO4J_USERNAME = \"neo4j\"\n",
    "NEO4J_PASSWORD = \"4cQimVVQmSVbF5rh6BA-qjWJcIQkmRnyjKXMoxco0Pw\"\n",
    "\n",
    "driver = GraphDatabase.driver(NEO4J_URI, auth=(NEO4J_USERNAME, NEO4J_PASSWORD))\n",
    "\n",
    "def test_connection():\n",
    "    try:\n",
    "        with driver.session() as session:\n",
    "            result = session.run(\"RETURN 1\")\n",
    "            return result.single()[0]\n",
    "    except Exception as e:\n",
    "        return f\"Erreur de connexion : {str(e)}\"\n",
    "    finally:\n",
    "        driver.close()\n",
    "\n",
    "print(test_connection())\n"
   ]
  },
  {
   "cell_type": "code",
   "execution_count": 21,
   "id": "8c354439",
   "metadata": {},
   "outputs": [],
   "source": [
    "class Book(BaseModel):\n",
    "    ISBN: str\n",
    "    title: str\n",
    "    description: Optional[str] = \"\"\n",
    "    author: Optional[str] = \"\"\n",
    "\n",
    "class Recommendation(BaseModel):\n",
    "    isbn: str\n",
    "    title: str\n",
    "    score: float\n",
    "    author: str"
   ]
  },
  {
   "cell_type": "code",
   "execution_count": 22,
   "id": "11c50660",
   "metadata": {},
   "outputs": [],
   "source": [
    "def load_books():\n",
    "    with driver.session() as session:\n",
    "        query = \"\"\"\n",
    "        MATCH (b:Book)\n",
    "        RETURN b.ISBN AS ISBN, b.title AS title, b.author AS author\n",
    "        \"\"\"\n",
    "        result = session.run(query)\n",
    "        return [Book(**record) for record in result]\n",
    "\n",
    "def load_ratings():\n",
    "    with driver.session() as session:\n",
    "        query = \"\"\"\n",
    "        MATCH (u:User)-[r:RATED]->(b:Book)\n",
    "        RETURN u[\"UserId\"] AS user_id, b.ISBN AS book_id, toInteger(r.rating) AS rating\n",
    "        \"\"\"\n",
    "        result = session.run(query)\n",
    "        return pd.DataFrame([record.data() for record in result])\n"
   ]
  },
  {
   "cell_type": "code",
   "execution_count": 23,
   "id": "a76ea544",
   "metadata": {},
   "outputs": [],
   "source": [
    "def create_user_similarity_matrix(ratings_df):\n",
    "    user_item_matrix = ratings_df.pivot_table(index='user_id', columns='book_id', values='rating', aggfunc='mean').fillna(0)\n",
    "    cosine_sim = cosine_similarity(user_item_matrix)\n",
    "    print(\"Matrice de similarité calculée.\")\n",
    "    return user_item_matrix, cosine_sim\n"
   ]
  },
  {
   "cell_type": "code",
   "execution_count": 24,
   "id": "349e31f8",
   "metadata": {},
   "outputs": [],
   "source": [
    "embedder = SentenceTransformer('all-MiniLM-L6-v2')\n",
    "\n",
    "def get_book_embeddings(books: List[Book]):\n",
    "    descriptions = [book.title or \"\" for book in books]\n",
    "    embeddings = embedder.encode(descriptions, convert_to_tensor=True)\n",
    "    return {book.ISBN: emb for book, emb in zip(books, embeddings)}\n"
   ]
  },
  {
   "cell_type": "code",
   "execution_count": 25,
   "id": "1b6c436f",
   "metadata": {},
   "outputs": [],
   "source": [
    "def recommend_books(user_id, user_item_matrix, cosine_sim_users, book_embeddings, books_metadata, top_n=5):\n",
    "    if user_id not in user_item_matrix.index:\n",
    "        print(\"Utilisateur non trouvé.\")\n",
    "        return []\n",
    "\n",
    "    user_idx = user_item_matrix.index.get_loc(user_id)\n",
    "    sim_scores = list(enumerate(cosine_sim_users[user_idx]))\n",
    "    top_similar_users = sorted(sim_scores, key=lambda x: x[1], reverse=True)[1:6]\n",
    "\n",
    "    user_rated_books = set(user_item_matrix.columns[user_item_matrix.loc[user_id] > 0])\n",
    "    score_sum, similarity_sum = {}, {}\n",
    "\n",
    "    for neighbor_idx, similarity in top_similar_users:\n",
    "        neighbor_id = user_item_matrix.index[neighbor_idx]\n",
    "        neighbor_ratings = user_item_matrix.loc[neighbor_id]\n",
    "\n",
    "        for book, rating in neighbor_ratings.items():\n",
    "            if rating > 0 and book not in user_rated_books:\n",
    "                score_sum[book] = score_sum.get(book, 0) + rating * similarity\n",
    "                similarity_sum[book] = similarity_sum.get(book, 0) + similarity\n",
    "\n",
    "    predicted_ratings = {\n",
    "        book: score_sum[book] / similarity_sum[book]\n",
    "        for book in score_sum if similarity_sum[book] != 0\n",
    "    }\n",
    "\n",
    "    for book_id in predicted_ratings:\n",
    "        if book_id in book_embeddings:\n",
    "            target_embedding = book_embeddings.get(book_id)\n",
    "            rated_embeddings = [book_embeddings[isbn] for isbn in user_rated_books if isbn in book_embeddings]\n",
    "\n",
    "            if rated_embeddings:\n",
    "                avg_user_embedding = np.mean(rated_embeddings, axis=0)\n",
    "                content_similarity = cosine_similarity([avg_user_embedding], [target_embedding])[0][0]\n",
    "                predicted_ratings[book_id] *= (0.7 + 0.3 * content_similarity)\n",
    "\n",
    "    recommended_books = sorted(predicted_ratings.items(), key=lambda x: x[1], reverse=True)[:top_n]\n",
    "    # return [Recommendation(isbn=isbn, title=books_metadata.get(isbn, \"Titre inconnu\"), score=score) for isbn, score in recommended_books]\n",
    "    return [\n",
    "        Recommendation(\n",
    "            isbn=isbn,\n",
    "            title=books_metadata.get(isbn, (\"Titre inconnu\", \"\"))[0],\n",
    "            author=books_metadata.get(isbn, (\"\", \"Auteur inconnu\"))[1],\n",
    "            score=score\n",
    "        )\n",
    "        for isbn, score in recommended_books\n",
    "    ]"
   ]
  },
  {
   "cell_type": "code",
   "execution_count": 26,
   "id": "0950e65f",
   "metadata": {},
   "outputs": [
    {
     "name": "stderr",
     "output_type": "stream",
     "text": [
      "C:\\Users\\dell latitude 9510\\AppData\\Local\\Temp\\ipykernel_5220\\628689800.py:11: DeprecationWarning: Using a driver after it has been closed is deprecated. Future versions of the driver will raise an error.\n",
      "  with driver.session() as session:\n",
      "C:\\Users\\dell latitude 9510\\AppData\\Local\\Temp\\ipykernel_5220\\628689800.py:2: DeprecationWarning: Using a driver after it has been closed is deprecated. Future versions of the driver will raise an error.\n",
      "  with driver.session() as session:\n"
     ]
    },
    {
     "name": "stdout",
     "output_type": "stream",
     "text": [
      "Matrice de similarité calculée.\n"
     ]
    }
   ],
   "source": [
    "# Chargement des données\n",
    "ratings_df = load_ratings()\n",
    "books = load_books()\n",
    "books_dict = {book.ISBN: (book.title, book.author) for book in books}\n",
    "\n",
    "# Matrices utilisateur-livre & similarité\n",
    "user_item_matrix, cosine_sim_users = create_user_similarity_matrix(ratings_df)\n",
    "\n",
    "# Embeddings\n",
    "book_embeddings = get_book_embeddings(books)\n"
   ]
  },
  {
   "cell_type": "code",
   "execution_count": 29,
   "id": "323f1b35",
   "metadata": {},
   "outputs": [],
   "source": [
    "def generate_summary_with_ollama(title: str, author: str):\n",
    "    prompt = f\"Peux-tu me faire un résumé clair et concis du livre suivant ?\\nTitre: {title}\\nAuteur: {author}\"\n",
    "    response = ollama.chat(model=\"mistral:latest\", messages=[{\"role\": \"user\", \"content\": prompt}])\n",
    "    return response['message']['content']"
   ]
  },
  {
   "cell_type": "code",
   "execution_count": null,
   "id": "2c501e7b",
   "metadata": {},
   "outputs": [
    {
     "name": "stdout",
     "output_type": "stream",
     "text": [
      "\n",
      "📘 Angels &amp; Demons (ISBN: 0671027360, Auteur: Dan Brown) — Score: 7.79\n",
      "Résumé :  Titre : Les anges et les démons\n",
      "Auteur : Dan Brown\n",
      "\n",
      "Résumé clair et concis : Dans un voyage à travers la ville de Rome, le symbologiste Robert Langdon est invité à résoudre un mystérieux meurtre qui a impliqué l'Ordre des Templiers. En recherchant les preuves pour déterminer qui est derrière les crimes, Langdon découvre un complot diabolique connu sous le nom de la Pièce d'or et de la main du Pape, une formule de transmutation de l'or en poussière d'or, inventée par Albert Einstein. En utilisant son expertise sur les symboles cachés dans la religion catholique, Langdon tente de résoudre le mystère avant que les anges et les démons ne s'affrontent pour la souveraineté du monde.\n",
      "\n",
      "📘 The Alibi (ISBN: 0446608653, Auteur: Sandra Brown) — Score: 6.97\n",
      "Résumé :  Livre : The Alibi\n",
      "   Auteur : Sandra Brown\n",
      "\n",
      "Résumé :\n",
      "\n",
      "Dans le livre The Alibi, l'auteur Sandra Brown raconte l'histoire de l'avocat Taylor MacFee qui est embauchée pour défendre un homme accusé d'un crime qu'il a bien commis. Le suspect, Nick Halloway, affirme avoir une alibi solide pour la nuit des faits : il se trouvait dans un hôtel avec une femme inconnue de lui à l'époque des événements. Taylor doit donc prouver que cette femme était bien présente auprès de Nick, car elle est le témoin clé capable de démontrer son innocence. Enquêteant sur la vie passée de Nick, Taylor découvre une histoire d'amour perdue entre lui et une femme disparue dix ans plus tôt qui pourrait être liée à l'affaire en cours. Alors que les pistes se renversent, Taylor et Nick commencent à s'approcher l'un de l'autre, mais le danger ne tarde pas à s'élever au point où la vie de Taylor est menacée. Finalement, avec de nombreux obstacles et rebondissements à surmonter, Taylor réussit à prouver que Nick n'était pas là pour commettre le crime et qu'il était en réalité innocent.\n",
      "\n",
      "📘 Dead Aim (ISBN: 0553584383, Auteur: IRIS JOHANSEN) — Score: 6.86\n",
      "Résumé :  Titre original : Dead Lock\n",
      "Auteur : Iris Johansen\n",
      "Résumé : Dans le roman policier *Dead Aim* de Iris Johansen, l'agent spécial de la CIA Eve Duncan doit enquêter sur un attentat à la bombe au Pentagon qui a tué des centaines de personnes. Elle travaille avec Joe Quinn, un agent spécial de la division antiterroriste de la CIA. Ils doivent résoudre l'énigme derrière le meurtrier mystérieux et efficace qui semble avoir planifié cette attaque terroriste. Pendant ce temps, Eve doit également affronter ses propres doutes et peurs concernant son propre passé, ainsi que la mort de sa fille aînée Bonnie, qui a été assassinée par un tueur en série qui reste non identifié. Le roman se termine sur une note ambigüe quant à l'identité du meurtrier et l'avenir d'Eve.\n",
      "\n",
      "📘 Divine Secrets of the Ya-Ya Sisterhood : A Novel (ISBN: 0060173289, Auteur: Rebecca Wells) — Score: 6.60\n",
      "Résumé :  Titre original : Divine Secrets of the Ya-Ya Sisterhood : A Novel\n",
      "  Auteur : Rebecca Wells\n",
      "\n",
      "Résumé : Divine Secrets of the Ya-Ya Sisterhood est un roman de 1996 écrit par Rebecca Wells. Le livre raconte l'histoire de Siddalee \"Sydney\" Tallee Walker, connue sous le nom de Sidda, une jeune femme de Louisiane qui tente de comprendre sa vie et ses origines en découvrant les secrets de la sœur secrète de sa mère, les Ya-Ya Sisterhood. En utilisant des lettres échangées entre Sydney et son amie Viola, le roman présente un flashback qui explique l'histoire familiale tumultueuse de la famille Walker à travers les années 1920, 1930, 1940 et 1950, ainsi que le défunt groupe des Ya-Ya Sisterhood qui sert de référence pour Sydney dans sa quête de découvrir l'identité de son passé. Le roman aborde les thèmes de la famille, du secrétisme et de la compréhension mutuelle entre les générations féminines.\n",
      "\n",
      "📘 The Short Forever (ISBN: 0451208080, Auteur: Stuart Woods) — Score: 6.32\n",
      "Résumé :  Titre : Le Court Permanent (traduction de The Short Forever)\n",
      "\n",
      "Auteur : Stuart Woods\n",
      "\n",
      "Résumé : Le roman met en scène la vie du détective privé extraordinaire, Stone Barrington. Dans ce quatrième livre de la série, Stone est confronté à un mystérieux et dangereux trafiquant d'art qui se trouve être son ancien camarade d'armée. Alors que Stone enquête sur ce crime intrigant, il se retrouve impliqué dans une affaire de détournement de fonds et de corruption à haut niveau politique. La vieille amitié entre Stone et son ancien camarade est mise à rude épreuve et l'avenir de Stone pourra être soit un grand succès ou un désastre total. Ce roman est une intrigue passionnante et pleine de rebondissements qui poursuit la série populaire de Stuart Woods.\n"
     ]
    }
   ],
   "source": [
    "# Trouver un user qui a noté assez de livres\n",
    "# user_rating_counts = ratings_df.groupby('user_id')['book_id'].count()\n",
    "# active_users = user_rating_counts[user_rating_counts >= 5].index.tolist()\n",
    "# print(\"Exemples d'user_id actifs :\", active_users[:10])\n",
    "\n",
    "# Tester avec un user\n",
    "user_id = 165  \n",
    "\n",
    "# Recommandation\n",
    "recs = recommend_books(user_id, user_item_matrix, cosine_sim_users, book_embeddings, books_dict, top_n=5)\n",
    "\n",
    "# Affichage des recommandations\n",
    "print(f\"\\nRecommandations pour l'utilisateur {user_id} :\")\n",
    "\n",
    "for rec in recs:\n",
    "    print(f\"\\n📘 {rec.title} (ISBN: {rec.isbn}, Auteur: {rec.author}) — Score: {rec.score:.2f}\")\n",
    "    desc = next((b.title for b in books if b.ISBN == rec.isbn), \"\")\n",
    "    print(generate_summary_with_ollama(rec.title, rec.author))"
   ]
  },
  {
   "cell_type": "code",
   "execution_count": null,
   "id": "bbc0966e",
   "metadata": {},
   "outputs": [],
   "source": []
  }
 ],
 "metadata": {
  "kernelspec": {
   "display_name": "book_recommender",
   "language": "python",
   "name": "python3"
  },
  "language_info": {
   "codemirror_mode": {
    "name": "ipython",
    "version": 3
   },
   "file_extension": ".py",
   "mimetype": "text/x-python",
   "name": "python",
   "nbconvert_exporter": "python",
   "pygments_lexer": "ipython3",
   "version": "3.10.16"
  }
 },
 "nbformat": 4,
 "nbformat_minor": 5
}
