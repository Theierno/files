{
 "cells": [
  {
   "cell_type": "code",
   "execution_count": 20,
   "id": "0ce64e06",
   "metadata": {},
   "outputs": [
    {
     "name": "stdout",
     "output_type": "stream",
     "text": [
      "1\n"
     ]
    }
   ],
   "source": [
    "NEO4J_URI = \"neo4j+s://7d3d4dbd.databases.neo4j.io\"\n",
    "NEO4J_USERNAME = \"neo4j\"\n",
    "NEO4J_PASSWORD = \"4cQimVVQmSVbF5rh6BA-qjWJcIQkmRnyjKXMoxco0Pw\"\n",
    "\n",
    "driver = GraphDatabase.driver(NEO4J_URI, auth=(NEO4J_USERNAME, NEO4J_PASSWORD))\n",
    "\n",
    "def test_connection():\n",
    "    try:\n",
    "        with driver.session() as session:\n",
    "            result = session.run(\"RETURN 1\")\n",
    "            return result.single()[0]\n",
    "    except Exception as e:\n",
    "        return f\"Erreur de connexion : {str(e)}\"\n",
    "    finally:\n",
    "        driver.close()\n",
    "\n",
    "print(test_connection())\n"
   ]
  }
 ],
 "metadata": {
  "kernelspec": {
   "display_name": "book_recommender",
   "language": "python",
   "name": "python3"
  },
  "language_info": {
   "codemirror_mode": {
    "name": "ipython",
    "version": 3
   },
   "file_extension": ".py",
   "mimetype": "text/x-python",
   "name": "python",
   "nbconvert_exporter": "python",
   "pygments_lexer": "ipython3",
   "version": "3.10.16"
  }
 },
 "nbformat": 4,
 "nbformat_minor": 5
}
